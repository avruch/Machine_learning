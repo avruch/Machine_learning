{
  "cells": [
    {
      "cell_type": "markdown",
      "source": [
        "# Assignment 2 - Decision Trees"
      ],
      "metadata": {
        "id": "BjgfynYGYJEt"
      }
    },
    {
      "cell_type": "markdown",
      "source": [
        "## Before you begin\n",
        "\n",
        "Remember to:\n",
        "\n",
        "1. Make your own copy of the notebook by pressing the \"Copy to drive\" button.\n",
        "2. Expend all cells by pressing **Ctrl+[**\n",
        "\n",
        "### Your IDs\n",
        "\n",
        "✍️ Fill in your IDs in the cell below:"
      ],
      "metadata": {
        "id": "zCidQZONYJE0"
      }
    },
    {
      "cell_type": "code",
      "source": [
        "## %%%%%%%%%%%%%%% Your code here - Begin %%%%%%%%%%%%%%%\n",
        "## Fill in your IDs (as a string)\n",
        "student1_id = '205736986'\n",
        "student2_id = '316315407'\n",
        "## %%%%%%%%%%%%%%% Your code here - End %%%%%%%%%%%%%%%%%\n",
        "\n",
        "print('Hello ' + student1_id + ' & ' + student2_id)"
      ],
      "metadata": {
        "id": "lOsdTMBwYJE3",
        "colab": {
          "base_uri": "https://localhost:8080/"
        },
        "outputId": "e97f7d0b-2997-4ca4-d364-4733f3026fe5"
      },
      "execution_count": null,
      "outputs": [
        {
          "output_type": "stream",
          "name": "stdout",
          "text": [
            "Hello 205736986 & 316315407\n"
          ]
        }
      ]
    },
    {
      "cell_type": "markdown",
      "source": [
        "### Importing Packages"
      ],
      "metadata": {
        "id": "pmQhjZh7YJE6"
      }
    },
    {
      "cell_type": "code",
      "source": [
        "import numpy as np  # Numerical package (mainly multi-dimensional arrays and linear algebra)\n",
        "import pandas as pd  # A package for working with data frames\n",
        "import matplotlib.pyplot as plt  # A plotting package\n",
        "\n",
        "## Setup matplotlib to output figures into the notebook\n",
        "%matplotlib inline\n",
        "\n",
        "## Set some default values of the the matplotlib plots\n",
        "plt.rcParams['figure.figsize'] = (6.0, 6.0)  # Set default plot's sizes\n",
        "plt.rcParams['figure.dpi'] = 120  # Set default plot's dpi (increase fonts' size)\n",
        "plt.rcParams['axes.grid'] = True  # Show grid by default in figures"
      ],
      "metadata": {
        "id": "judJCh2qYJE7"
      },
      "execution_count": null,
      "outputs": []
    },
    {
      "cell_type": "markdown",
      "source": [
        "## Seoul Bike Sharing Demand Dataset\n",
        "\n",
        "Similar to the previous assignment, we will again work with the bike sharing dataset trying to predict the number of rented bikes in each hour according to the day of the week, the time of day and the weather."
      ],
      "metadata": {
        "id": "4BNiLsBXYJE7"
      }
    },
    {
      "cell_type": "markdown",
      "source": [
        "### Loading the dataset"
      ],
      "metadata": {
        "id": "8I3xo0HGYJE8"
      }
    },
    {
      "cell_type": "code",
      "source": [
        "dataset_location = 'https://technion046195.netlify.app/datasets/bike_demand.csv'\n",
        "\n",
        "## Loading the data\n",
        "dataset = pd.read_csv(dataset_location)"
      ],
      "metadata": {
        "id": "jgG0gmM-YJE9"
      },
      "execution_count": null,
      "outputs": []
    },
    {
      "cell_type": "markdown",
      "source": [
        "We shall plot the dataset again"
      ],
      "metadata": {
        "id": "rfR5youVYJE_"
      }
    },
    {
      "cell_type": "code",
      "source": [
        "dataset"
      ],
      "metadata": {
        "id": "WhMotDSSYJE_",
        "colab": {
          "base_uri": "https://localhost:8080/",
          "height": 485
        },
        "outputId": "c034a282-034a-41a3-c378-844bab69a210"
      },
      "execution_count": null,
      "outputs": [
        {
          "output_type": "execute_result",
          "data": {
            "text/plain": [
              "            Date  Rented Bike Count  Hour  Temperature(°C)  Humidity(%)  \\\n",
              "0     01/12/2017                254     0             -5.2           37   \n",
              "1     01/12/2017                204     1             -5.5           38   \n",
              "2     01/12/2017                173     2             -6.0           39   \n",
              "3     01/12/2017                107     3             -6.2           40   \n",
              "4     01/12/2017                 78     4             -6.0           36   \n",
              "...          ...                ...   ...              ...          ...   \n",
              "8052  30/11/2018               1003    19              4.2           34   \n",
              "8053  30/11/2018                764    20              3.4           37   \n",
              "8054  30/11/2018                694    21              2.6           39   \n",
              "8055  30/11/2018                712    22              2.1           41   \n",
              "8056  30/11/2018                584    23              1.9           43   \n",
              "\n",
              "      Wind speed (m/s)  Visibility (10m)  Solar Radiation (MJ/m2)  \\\n",
              "0                  2.2              2000                      0.0   \n",
              "1                  0.8              2000                      0.0   \n",
              "2                  1.0              2000                      0.0   \n",
              "3                  0.9              2000                      0.0   \n",
              "4                  2.3              2000                      0.0   \n",
              "...                ...               ...                      ...   \n",
              "8052               2.6              1894                      0.0   \n",
              "8053               2.3              2000                      0.0   \n",
              "8054               0.3              1968                      0.0   \n",
              "8055               1.0              1859                      0.0   \n",
              "8056               1.3              1909                      0.0   \n",
              "\n",
              "      Rainfall(mm)  Snowfall (cm)  Day of the week  \n",
              "0              0.0            0.0                4  \n",
              "1              0.0            0.0                4  \n",
              "2              0.0            0.0                4  \n",
              "3              0.0            0.0                4  \n",
              "4              0.0            0.0                4  \n",
              "...            ...            ...              ...  \n",
              "8052           0.0            0.0                4  \n",
              "8053           0.0            0.0                4  \n",
              "8054           0.0            0.0                4  \n",
              "8055           0.0            0.0                4  \n",
              "8056           0.0            0.0                4  \n",
              "\n",
              "[8057 rows x 11 columns]"
            ],
            "text/html": [
              "\n",
              "  <div id=\"df-2e28250c-9467-4a5e-9a74-e98b163a1396\">\n",
              "    <div class=\"colab-df-container\">\n",
              "      <div>\n",
              "<style scoped>\n",
              "    .dataframe tbody tr th:only-of-type {\n",
              "        vertical-align: middle;\n",
              "    }\n",
              "\n",
              "    .dataframe tbody tr th {\n",
              "        vertical-align: top;\n",
              "    }\n",
              "\n",
              "    .dataframe thead th {\n",
              "        text-align: right;\n",
              "    }\n",
              "</style>\n",
              "<table border=\"1\" class=\"dataframe\">\n",
              "  <thead>\n",
              "    <tr style=\"text-align: right;\">\n",
              "      <th></th>\n",
              "      <th>Date</th>\n",
              "      <th>Rented Bike Count</th>\n",
              "      <th>Hour</th>\n",
              "      <th>Temperature(°C)</th>\n",
              "      <th>Humidity(%)</th>\n",
              "      <th>Wind speed (m/s)</th>\n",
              "      <th>Visibility (10m)</th>\n",
              "      <th>Solar Radiation (MJ/m2)</th>\n",
              "      <th>Rainfall(mm)</th>\n",
              "      <th>Snowfall (cm)</th>\n",
              "      <th>Day of the week</th>\n",
              "    </tr>\n",
              "  </thead>\n",
              "  <tbody>\n",
              "    <tr>\n",
              "      <th>0</th>\n",
              "      <td>01/12/2017</td>\n",
              "      <td>254</td>\n",
              "      <td>0</td>\n",
              "      <td>-5.2</td>\n",
              "      <td>37</td>\n",
              "      <td>2.2</td>\n",
              "      <td>2000</td>\n",
              "      <td>0.0</td>\n",
              "      <td>0.0</td>\n",
              "      <td>0.0</td>\n",
              "      <td>4</td>\n",
              "    </tr>\n",
              "    <tr>\n",
              "      <th>1</th>\n",
              "      <td>01/12/2017</td>\n",
              "      <td>204</td>\n",
              "      <td>1</td>\n",
              "      <td>-5.5</td>\n",
              "      <td>38</td>\n",
              "      <td>0.8</td>\n",
              "      <td>2000</td>\n",
              "      <td>0.0</td>\n",
              "      <td>0.0</td>\n",
              "      <td>0.0</td>\n",
              "      <td>4</td>\n",
              "    </tr>\n",
              "    <tr>\n",
              "      <th>2</th>\n",
              "      <td>01/12/2017</td>\n",
              "      <td>173</td>\n",
              "      <td>2</td>\n",
              "      <td>-6.0</td>\n",
              "      <td>39</td>\n",
              "      <td>1.0</td>\n",
              "      <td>2000</td>\n",
              "      <td>0.0</td>\n",
              "      <td>0.0</td>\n",
              "      <td>0.0</td>\n",
              "      <td>4</td>\n",
              "    </tr>\n",
              "    <tr>\n",
              "      <th>3</th>\n",
              "      <td>01/12/2017</td>\n",
              "      <td>107</td>\n",
              "      <td>3</td>\n",
              "      <td>-6.2</td>\n",
              "      <td>40</td>\n",
              "      <td>0.9</td>\n",
              "      <td>2000</td>\n",
              "      <td>0.0</td>\n",
              "      <td>0.0</td>\n",
              "      <td>0.0</td>\n",
              "      <td>4</td>\n",
              "    </tr>\n",
              "    <tr>\n",
              "      <th>4</th>\n",
              "      <td>01/12/2017</td>\n",
              "      <td>78</td>\n",
              "      <td>4</td>\n",
              "      <td>-6.0</td>\n",
              "      <td>36</td>\n",
              "      <td>2.3</td>\n",
              "      <td>2000</td>\n",
              "      <td>0.0</td>\n",
              "      <td>0.0</td>\n",
              "      <td>0.0</td>\n",
              "      <td>4</td>\n",
              "    </tr>\n",
              "    <tr>\n",
              "      <th>...</th>\n",
              "      <td>...</td>\n",
              "      <td>...</td>\n",
              "      <td>...</td>\n",
              "      <td>...</td>\n",
              "      <td>...</td>\n",
              "      <td>...</td>\n",
              "      <td>...</td>\n",
              "      <td>...</td>\n",
              "      <td>...</td>\n",
              "      <td>...</td>\n",
              "      <td>...</td>\n",
              "    </tr>\n",
              "    <tr>\n",
              "      <th>8052</th>\n",
              "      <td>30/11/2018</td>\n",
              "      <td>1003</td>\n",
              "      <td>19</td>\n",
              "      <td>4.2</td>\n",
              "      <td>34</td>\n",
              "      <td>2.6</td>\n",
              "      <td>1894</td>\n",
              "      <td>0.0</td>\n",
              "      <td>0.0</td>\n",
              "      <td>0.0</td>\n",
              "      <td>4</td>\n",
              "    </tr>\n",
              "    <tr>\n",
              "      <th>8053</th>\n",
              "      <td>30/11/2018</td>\n",
              "      <td>764</td>\n",
              "      <td>20</td>\n",
              "      <td>3.4</td>\n",
              "      <td>37</td>\n",
              "      <td>2.3</td>\n",
              "      <td>2000</td>\n",
              "      <td>0.0</td>\n",
              "      <td>0.0</td>\n",
              "      <td>0.0</td>\n",
              "      <td>4</td>\n",
              "    </tr>\n",
              "    <tr>\n",
              "      <th>8054</th>\n",
              "      <td>30/11/2018</td>\n",
              "      <td>694</td>\n",
              "      <td>21</td>\n",
              "      <td>2.6</td>\n",
              "      <td>39</td>\n",
              "      <td>0.3</td>\n",
              "      <td>1968</td>\n",
              "      <td>0.0</td>\n",
              "      <td>0.0</td>\n",
              "      <td>0.0</td>\n",
              "      <td>4</td>\n",
              "    </tr>\n",
              "    <tr>\n",
              "      <th>8055</th>\n",
              "      <td>30/11/2018</td>\n",
              "      <td>712</td>\n",
              "      <td>22</td>\n",
              "      <td>2.1</td>\n",
              "      <td>41</td>\n",
              "      <td>1.0</td>\n",
              "      <td>1859</td>\n",
              "      <td>0.0</td>\n",
              "      <td>0.0</td>\n",
              "      <td>0.0</td>\n",
              "      <td>4</td>\n",
              "    </tr>\n",
              "    <tr>\n",
              "      <th>8056</th>\n",
              "      <td>30/11/2018</td>\n",
              "      <td>584</td>\n",
              "      <td>23</td>\n",
              "      <td>1.9</td>\n",
              "      <td>43</td>\n",
              "      <td>1.3</td>\n",
              "      <td>1909</td>\n",
              "      <td>0.0</td>\n",
              "      <td>0.0</td>\n",
              "      <td>0.0</td>\n",
              "      <td>4</td>\n",
              "    </tr>\n",
              "  </tbody>\n",
              "</table>\n",
              "<p>8057 rows × 11 columns</p>\n",
              "</div>\n",
              "      <button class=\"colab-df-convert\" onclick=\"convertToInteractive('df-2e28250c-9467-4a5e-9a74-e98b163a1396')\"\n",
              "              title=\"Convert this dataframe to an interactive table.\"\n",
              "              style=\"display:none;\">\n",
              "        \n",
              "  <svg xmlns=\"http://www.w3.org/2000/svg\" height=\"24px\"viewBox=\"0 0 24 24\"\n",
              "       width=\"24px\">\n",
              "    <path d=\"M0 0h24v24H0V0z\" fill=\"none\"/>\n",
              "    <path d=\"M18.56 5.44l.94 2.06.94-2.06 2.06-.94-2.06-.94-.94-2.06-.94 2.06-2.06.94zm-11 1L8.5 8.5l.94-2.06 2.06-.94-2.06-.94L8.5 2.5l-.94 2.06-2.06.94zm10 10l.94 2.06.94-2.06 2.06-.94-2.06-.94-.94-2.06-.94 2.06-2.06.94z\"/><path d=\"M17.41 7.96l-1.37-1.37c-.4-.4-.92-.59-1.43-.59-.52 0-1.04.2-1.43.59L10.3 9.45l-7.72 7.72c-.78.78-.78 2.05 0 2.83L4 21.41c.39.39.9.59 1.41.59.51 0 1.02-.2 1.41-.59l7.78-7.78 2.81-2.81c.8-.78.8-2.07 0-2.86zM5.41 20L4 18.59l7.72-7.72 1.47 1.35L5.41 20z\"/>\n",
              "  </svg>\n",
              "      </button>\n",
              "      \n",
              "  <style>\n",
              "    .colab-df-container {\n",
              "      display:flex;\n",
              "      flex-wrap:wrap;\n",
              "      gap: 12px;\n",
              "    }\n",
              "\n",
              "    .colab-df-convert {\n",
              "      background-color: #E8F0FE;\n",
              "      border: none;\n",
              "      border-radius: 50%;\n",
              "      cursor: pointer;\n",
              "      display: none;\n",
              "      fill: #1967D2;\n",
              "      height: 32px;\n",
              "      padding: 0 0 0 0;\n",
              "      width: 32px;\n",
              "    }\n",
              "\n",
              "    .colab-df-convert:hover {\n",
              "      background-color: #E2EBFA;\n",
              "      box-shadow: 0px 1px 2px rgba(60, 64, 67, 0.3), 0px 1px 3px 1px rgba(60, 64, 67, 0.15);\n",
              "      fill: #174EA6;\n",
              "    }\n",
              "\n",
              "    [theme=dark] .colab-df-convert {\n",
              "      background-color: #3B4455;\n",
              "      fill: #D2E3FC;\n",
              "    }\n",
              "\n",
              "    [theme=dark] .colab-df-convert:hover {\n",
              "      background-color: #434B5C;\n",
              "      box-shadow: 0px 1px 3px 1px rgba(0, 0, 0, 0.15);\n",
              "      filter: drop-shadow(0px 1px 2px rgba(0, 0, 0, 0.3));\n",
              "      fill: #FFFFFF;\n",
              "    }\n",
              "  </style>\n",
              "\n",
              "      <script>\n",
              "        const buttonEl =\n",
              "          document.querySelector('#df-2e28250c-9467-4a5e-9a74-e98b163a1396 button.colab-df-convert');\n",
              "        buttonEl.style.display =\n",
              "          google.colab.kernel.accessAllowed ? 'block' : 'none';\n",
              "\n",
              "        async function convertToInteractive(key) {\n",
              "          const element = document.querySelector('#df-2e28250c-9467-4a5e-9a74-e98b163a1396');\n",
              "          const dataTable =\n",
              "            await google.colab.kernel.invokeFunction('convertToInteractive',\n",
              "                                                     [key], {});\n",
              "          if (!dataTable) return;\n",
              "\n",
              "          const docLinkHtml = 'Like what you see? Visit the ' +\n",
              "            '<a target=\"_blank\" href=https://colab.research.google.com/notebooks/data_table.ipynb>data table notebook</a>'\n",
              "            + ' to learn more about interactive tables.';\n",
              "          element.innerHTML = '';\n",
              "          dataTable['output_type'] = 'display_data';\n",
              "          await google.colab.output.renderOutput(dataTable, element);\n",
              "          const docLink = document.createElement('div');\n",
              "          docLink.innerHTML = docLinkHtml;\n",
              "          element.appendChild(docLink);\n",
              "        }\n",
              "      </script>\n",
              "    </div>\n",
              "  </div>\n",
              "  "
            ]
          },
          "metadata": {},
          "execution_count": 50
        }
      ]
    },
    {
      "cell_type": "markdown",
      "source": [
        "✍️ Again we shall store all the relevant fields in a list named \"x_fields\". Fill in the name of the relevant fields we would like to use for our prediction (reminder: we do not want to use the \"Date\" field).\n",
        "\n",
        "- You can basically copy this line from the last assignment."
      ],
      "metadata": {
        "id": "Lc3IqRXnYJFC"
      }
    },
    {
      "cell_type": "code",
      "source": [
        "y_field = 'Rented Bike Count'\n",
        "\n",
        "## %%%%%%%%%%%%%%% Your code here - Begin %%%%%%%%%%%%%%%\n",
        "## Fill in the name of the relevant fields.\n",
        "x_fields = ['Hour', 'Temperature(°C)','Humidity(%)','Wind speed (m/s)',\\\n",
        "            'Visibility (10m)','Solar Radiation (MJ/m2)','Rainfall(mm)','Snowfall (cm)','Day of the week']\n",
        "## %%%%%%%%%%%%%%% Your code here - End %%%%%%%%%%%%%%%%%"
      ],
      "metadata": {
        "id": "ewSX7JeEYJFD"
      },
      "execution_count": null,
      "outputs": []
    },
    {
      "cell_type": "markdown",
      "source": [
        "## Train-test split\n",
        "\n",
        "We shall divide the dataset into 80% train and 20% train.\n",
        "\n",
        "✍️ Copy the code from the last assignment in order to split the dataset"
      ],
      "metadata": {
        "id": "b0VqW3AjYJFE"
      }
    },
    {
      "cell_type": "code",
      "source": [
        "\n",
        "n_samples = len(dataset)  # The total number of samples in the dataset\n",
        "\n",
        "## Generate a random generator with a fixed seed\n",
        "rand_gen = np.random.RandomState(0)\n",
        "\n",
        "## Generating a shuffled vector of indices\n",
        "indices = np.arange(n_samples)\n",
        "rand_gen.shuffle(indices)\n",
        "\n",
        "## Split the indices into 80% train (full) / 20% test\n",
        "n_samples_train_full = int(n_samples * 0.8)\n",
        "train_full_indices = indices[:n_samples_train_full]\n",
        "test_indices = indices[n_samples_train_full:]\n",
        "\n",
        "## Extract the sub datasets from the full dataset using the calculated indices\n",
        "train_full_set = dataset.iloc[train_full_indices]\n",
        "test_set = dataset.iloc[test_indices]"
      ],
      "metadata": {
        "id": "lHGAWh3-YJFE"
      },
      "execution_count": null,
      "outputs": []
    },
    {
      "cell_type": "markdown",
      "source": [
        "## Train - validation split\n",
        "\n",
        "We shall divide the train set into 75% train and 25% validation.\n",
        "\n",
        "✍️ Complete the following code to create a train-validation split similar to the train-test split above:"
      ],
      "metadata": {
        "id": "VKz8_uMvYJFF"
      }
    },
    {
      "cell_type": "code",
      "source": [
        "## Generate a random generator with a fixed (different) seed\n",
        "rand_gen = np.random.RandomState(1)\n",
        "\n",
        "## Generating a shuffled vector of indices\n",
        "indices = train_full_indices.copy()\n",
        "rand_gen.shuffle(indices)\n",
        "\n",
        "## %%%%%%%%%%%%%%% Your code here - Begin %%%%%%%%%%%%%%%\n",
        "## Split the indices of the train (full) dataset into 75% train / 25% validation\n",
        "n_samples_train = int(n_samples_train_full * 0.75)\n",
        "train_indices = indices[:n_samples_train]\n",
        "val_indices = indices[n_samples_train:]\n",
        "## %%%%%%%%%%%%%%% Your code here - End %%%%%%%%%%%%%%%%%\n",
        "\n",
        "## Extract the sub datasets from the full dataset using the calculated indices\n",
        "train_set = dataset.iloc[train_indices]\n",
        "val_set = dataset.iloc[val_indices]"
      ],
      "metadata": {
        "id": "LEVjPDpcYJFF"
      },
      "execution_count": null,
      "outputs": []
    },
    {
      "cell_type": "markdown",
      "source": [
        "## Extracting the features from the dataset\n",
        "\n",
        "✍️ Complete the following code to create the $X$ matrix and $\\boldsymbol{y}$ vector for a given dataset. In this case we only want one column per each field in \"x_fields\" (no high orders). The is not need to add a bias term."
      ],
      "metadata": {
        "id": "Dcl5XI78YJF9"
      }
    },
    {
      "cell_type": "code",
      "source": [
        "def extract_x_y(dataset):\n",
        "    ## %%%%%%%%%%%%%%% Your code here - Begin %%%%%%%%%%%%%%%\n",
        "    features = []\n",
        "    for field in x_fields:\n",
        "        features.append(dataset[field].values)\n",
        "    x = np.stack(features,axis=-1)\n",
        "    y = dataset[y_field].values\n",
        "    ## %%%%%%%%%%%%%%% Your code here - End %%%%%%%%%%%%%%%%%\n",
        "    return x, y\n",
        "    \n",
        "x_train, y_train = extract_x_y(train_set)\n",
        "x_val, y_val = extract_x_y(val_set)\n",
        "x_train_full, y_train_full = extract_x_y(train_full_set)\n",
        "x_test, y_test = extract_x_y(test_set)"
      ],
      "metadata": {
        "id": "L4LqNvI0YJF-"
      },
      "execution_count": null,
      "outputs": []
    },
    {
      "cell_type": "markdown",
      "source": [
        "## A Decision Tree for Regression\n",
        "\n",
        "In call we have shown how a to use a decision tree to solve classification tasks. In this assignment we will show how they can also be used to solve regression problems. Specifically we will show how to do so for the case of an MSE / RMSE loss function.\n",
        "\n",
        "In order to make our algorithm for building the trees useful for regression problems, we will make 2 adjustments:\n",
        "\n",
        "1. The criteria which we will be using to select the best node to add will be the MSE (or the RMSE), replacing the Gini / entropy criteria.\n",
        "2. The final prediction in the leafs of the tree will be selected as the mean of the labels of the samples reaching each leaf, when applying the decision tree to the train set. "
      ],
      "metadata": {
        "id": "_fTREiBkYJF-"
      }
    },
    {
      "cell_type": "markdown",
      "source": [
        "## A Stump - A decision tree of depth 1\n",
        "\n",
        "We will start with a simple case of a tree of depth 1, i.e. a tree with a single split. Such decision trees are usually referred to as **stumps**. Since we are limiting our selves to splits of the form of $x_i\\geq\\alpha$, the stump has 4 parameters:\n",
        "\n",
        "- $i$: the index of the component of $\\boldsymbol{x}$ which we would like to compare.\n",
        "- $\\alpha$: the threshold.\n",
        "- The predictions for each of the two leafs.\n",
        "\n",
        "The following class implements a stump.\n",
        "\n",
        "- The values of $i$ and $\\alpha$ are fixed when the stump is created.\n",
        "- The prediction values in the leafs are updated when calling the \"fit\" method with a set of $X$ and $\\boldsymbol{y}$.\n",
        "- The split function is an auxiliary function which creates two sets of indices which can be used to  split the data according the the stump condition.\n",
        "- The predict method receives $X$ and produces a prediction $\\hat{\\boldsymbol{y}}$.\n",
        "\n",
        "✍️ Go over the code and complete the code in the fit method such that the stump will learn the optimal prediction in each leaf based on the given data (x and y).\n",
        "\n",
        "- Remember the optimal prediction in each node will be the mean value of the labels of the samples reaching each leaf.\n",
        "- The fit function has two \"if\" functions to check if the split didn't produce an empty split (using the \"any\" function). The values of the predictions should be updated only if the split is not empty, other wise the predictions should be left with their initial values (-1)."
      ],
      "metadata": {
        "id": "C4PLw-E1YJF_"
      }
    },
    {
      "cell_type": "code",
      "source": [
        "class Stump:\n",
        "    def __init__(self, field_num, threshold):\n",
        "        ## Initizalizing the stump with some fixed values of field_num (i) and threshold (alpha)\n",
        "        self.field_num = field_num\n",
        "        self.threshold = threshold\n",
        "        \n",
        "        self.true_leaf_prediciton = -1  ## This is a place holder until the fit function is called\n",
        "        self.false_leaf_prediction = -1  ## This is a place holder until the fit function is called\n",
        "    \n",
        "    def split(self, x):\n",
        "        ## An auxiliary function for generating indices for splitting the data.\n",
        "        true_indices = (x[:, self.field_num] >= self.threshold)\n",
        "        false_indices = (x[:, self.field_num] < self.threshold)\n",
        "        return true_indices, false_indices\n",
        "\n",
        "    def fit(self, x, y):\n",
        "        true_indices, false_indices = self.split(x)\n",
        "        ## %%%%%%%%%%%%%%% Your code here - Begin %%%%%%%%%%%%%%%\n",
        "        if true_indices.any():\n",
        "            self.true_leaf_prediciton = np.mean(y[true_indices], axis=0)\n",
        "        if false_indices.any():\n",
        "            self.false_leaf_prediction = np.mean(y[false_indices], axis=0)\n",
        "        ## %%%%%%%%%%%%%%% Your code here - End %%%%%%%%%%%%%%%%%\n",
        "\n",
        "    def predict(self, x):\n",
        "        y_hat = np.zeros(x.shape[0])\n",
        "        true_indices, false_indices = self.split(x)\n",
        "        y_hat[true_indices] = self.true_leaf_prediciton\n",
        "        y_hat[false_indices] = self.false_leaf_prediction\n",
        "        return y_hat\n",
        "\n",
        "## Test\n",
        "stump = Stump(0, 10)\n",
        "stump.fit(x_train, y_train)\n",
        "print(f'true_leaf_prediciton: {stump.true_leaf_prediciton}')\n",
        "print(f'false_leaf_prediction: {stump.false_leaf_prediction}')"
      ],
      "metadata": {
        "id": "VlvVxXmOYJF_",
        "colab": {
          "base_uri": "https://localhost:8080/"
        },
        "outputId": "b535c9f8-7c4e-4f2b-c11e-f5bd6084c2a8"
      },
      "execution_count": null,
      "outputs": [
        {
          "output_type": "stream",
          "name": "stdout",
          "text": [
            "true_leaf_prediciton: 946.0944937833037\n",
            "false_leaf_prediction: 461.5713577799802\n"
          ]
        }
      ]
    },
    {
      "cell_type": "markdown",
      "source": [
        "Make sure that you get results around 950 and 450 in the above cell.\n",
        "\n",
        "This function below uses a package named \"graphviz\" to plot stumps. You do not need to go over it."
      ],
      "metadata": {
        "id": "M_BvhJUuYJGA"
      }
    },
    {
      "cell_type": "code",
      "source": [
        "from graphviz import Digraph  # A package for plothing graphs (of nodes and edges)\n",
        "def plot_stump(stump):\n",
        "    node_style = {'style': 'filled', 'fillcolor': '#DAE8FC', 'color': '#6C8EBF', 'penwidth': '3'}\n",
        "    edge_style = {'penwidth': '2'}\n",
        "\n",
        "    node_text = f'{x_fields[stump.field_num]} >= {int(stump.threshold)}'\n",
        "    \n",
        "    tree_graph = Digraph()\n",
        "    tree_graph.node('root', '<<I><B>x</B></I>>', shape='plaintext')\n",
        "    tree_graph.edge('root', 'node', **edge_style)\n",
        "    tree_graph.node('node', node_text, **node_style)\n",
        "    tree_graph.edge('node', 'node_0', 'No', **edge_style)\n",
        "    tree_graph.node('node_0', f'{int(stump.false_leaf_prediction)}', shape='plaintext')\n",
        "    tree_graph.edge('node', 'node_1', 'Yes', **edge_style)\n",
        "    tree_graph.node('node_1', f'{int(stump.true_leaf_prediciton)}', shape='plaintext')\n",
        "    return tree_graph"
      ],
      "metadata": {
        "id": "tMcrKZOyYJGB"
      },
      "execution_count": null,
      "outputs": []
    },
    {
      "cell_type": "code",
      "source": [
        "plot_stump(stump)"
      ],
      "metadata": {
        "id": "pFW4Fy-nYJGD",
        "colab": {
          "base_uri": "https://localhost:8080/",
          "height": 293
        },
        "outputId": "6aacc6e3-e810-4480-e45a-41d1bb51ad13"
      },
      "execution_count": null,
      "outputs": [
        {
          "output_type": "execute_result",
          "data": {
            "text/plain": [
              "<graphviz.dot.Digraph at 0x7fc058cf0430>"
            ],
            "image/svg+xml": "<?xml version=\"1.0\" encoding=\"UTF-8\" standalone=\"no\"?>\n<!DOCTYPE svg PUBLIC \"-//W3C//DTD SVG 1.1//EN\"\n \"http://www.w3.org/Graphics/SVG/1.1/DTD/svg11.dtd\">\n<!-- Generated by graphviz version 2.40.1 (20161225.0304)\n -->\n<!-- Title: %3 Pages: 1 -->\n<svg width=\"134pt\" height=\"204pt\"\n viewBox=\"0.00 0.00 134.00 204.00\" xmlns=\"http://www.w3.org/2000/svg\" xmlns:xlink=\"http://www.w3.org/1999/xlink\">\n<g id=\"graph0\" class=\"graph\" transform=\"scale(1 1) rotate(0) translate(4 200)\">\n<title>%3</title>\n<polygon fill=\"#ffffff\" stroke=\"transparent\" points=\"-4,4 -4,-200 130,-200 130,4 -4,4\"/>\n<!-- root -->\n<g id=\"node1\" class=\"node\">\n<title>root</title>\n<text text-anchor=\"start\" x=\"59\" y=\"-175.3\" font-family=\"Times,serif\" font-weight=\"bold\" font-style=\"italic\" font-size=\"14.00\" fill=\"#000000\">x</text>\n</g>\n<!-- node -->\n<g id=\"node2\" class=\"node\">\n<title>node</title>\n<ellipse fill=\"#dae8fc\" stroke=\"#6c8ebf\" stroke-width=\"3\" cx=\"63\" cy=\"-105\" rx=\"55.7903\" ry=\"18\"/>\n<text text-anchor=\"middle\" x=\"63\" y=\"-101.3\" font-family=\"Times,serif\" font-size=\"14.00\" fill=\"#000000\">Hour &gt;= 10</text>\n</g>\n<!-- root&#45;&gt;node -->\n<g id=\"edge1\" class=\"edge\">\n<title>root&#45;&gt;node</title>\n<path fill=\"none\" stroke=\"#000000\" stroke-width=\"2\" d=\"M63,-159.9551C63,-151.8828 63,-142.1764 63,-133.1817\"/>\n<polygon fill=\"#000000\" stroke=\"#000000\" stroke-width=\"2\" points=\"66.5001,-133.0903 63,-123.0904 59.5001,-133.0904 66.5001,-133.0903\"/>\n</g>\n<!-- node_0 -->\n<g id=\"node3\" class=\"node\">\n<title>node_0</title>\n<text text-anchor=\"middle\" x=\"27\" y=\"-14.3\" font-family=\"Times,serif\" font-size=\"14.00\" fill=\"#000000\">461</text>\n</g>\n<!-- node&#45;&gt;node_0 -->\n<g id=\"edge2\" class=\"edge\">\n<title>node&#45;&gt;node_0</title>\n<path fill=\"none\" stroke=\"#000000\" stroke-width=\"2\" d=\"M55.5408,-86.9735C50.569,-74.9585 43.9407,-58.9401 38.3233,-45.3646\"/>\n<polygon fill=\"#000000\" stroke=\"#000000\" stroke-width=\"2\" points=\"41.5073,-43.9053 34.4497,-36.0034 35.0392,-46.5818 41.5073,-43.9053\"/>\n<text text-anchor=\"middle\" x=\"57.5\" y=\"-57.8\" font-family=\"Times,serif\" font-size=\"14.00\" fill=\"#000000\">No</text>\n</g>\n<!-- node_1 -->\n<g id=\"node4\" class=\"node\">\n<title>node_1</title>\n<text text-anchor=\"middle\" x=\"99\" y=\"-14.3\" font-family=\"Times,serif\" font-size=\"14.00\" fill=\"#000000\">946</text>\n</g>\n<!-- node&#45;&gt;node_1 -->\n<g id=\"edge3\" class=\"edge\">\n<title>node&#45;&gt;node_1</title>\n<path fill=\"none\" stroke=\"#000000\" stroke-width=\"2\" d=\"M70.4592,-86.9735C75.431,-74.9585 82.0593,-58.9401 87.6767,-45.3646\"/>\n<polygon fill=\"#000000\" stroke=\"#000000\" stroke-width=\"2\" points=\"90.9608,-46.5818 91.5503,-36.0034 84.4927,-43.9053 90.9608,-46.5818\"/>\n<text text-anchor=\"middle\" x=\"93.5\" y=\"-57.8\" font-family=\"Times,serif\" font-size=\"14.00\" fill=\"#000000\">Yes</text>\n</g>\n</g>\n</svg>\n"
          },
          "metadata": {},
          "execution_count": 57
        }
      ]
    },
    {
      "cell_type": "markdown",
      "source": [
        "Let's look at some predictions"
      ],
      "metadata": {
        "id": "uCQpr2bbYJGE"
      }
    },
    {
      "cell_type": "code",
      "source": [
        "print(f'x1 values (hour): {x_train[:10, 0]}')\n",
        "print(f'Predictions     : {stump.predict(x_train).astype(int)[:10]}')"
      ],
      "metadata": {
        "id": "QPPjScBVYJGE",
        "colab": {
          "base_uri": "https://localhost:8080/"
        },
        "outputId": "abceb149-584c-4b59-8c4b-63283ba12913"
      },
      "execution_count": null,
      "outputs": [
        {
          "output_type": "stream",
          "name": "stdout",
          "text": [
            "x1 values (hour): [21.  8.  8.  9. 10.  9.  1.  6. 17.  9.]\n",
            "Predictions     : [946 461 461 461 946 461 461 461 946 461]\n"
          ]
        }
      ]
    },
    {
      "cell_type": "markdown",
      "source": [
        "## Calculating the RMSE\n",
        "\n",
        "Since we will use RMSE both to select the node to add at each step and to evaluated the out model, let's implement a function which calculated the RMSE for a given model and a dataset ($X$ and $\\boldsymbol{y}$).\n",
        "\n",
        "✍️ Complete the code below so that it will compute the RMSE of the model in the given dataset."
      ],
      "metadata": {
        "id": "Iqkt_VkIYJGF"
      }
    },
    {
      "cell_type": "code",
      "source": [
        "def calc_model_rmse(model, x, y):\n",
        "    y_hat = model.predict(x)\n",
        "    ## %%%%%%%%%%%%%%% Your code here - Begin %%%%%%%%%%%%%%%\n",
        "    N=len(y)\n",
        "    rmse = np.sqrt((1/N)*((y_hat-y).T@(y_hat-y)))\n",
        "    ## %%%%%%%%%%%%%%% Your code here - End %%%%%%%%%%%%%%%%%\n",
        "    return rmse\n",
        "\n",
        "calc_model_rmse(stump, x_train, y_train)"
      ],
      "metadata": {
        "id": "7dDLUwZNYJGF",
        "colab": {
          "base_uri": "https://localhost:8080/"
        },
        "outputId": "51940827-1e5a-416d-96de-1567aae02d65"
      },
      "execution_count": null,
      "outputs": [
        {
          "output_type": "execute_result",
          "data": {
            "text/plain": [
              "603.2358102828449"
            ]
          },
          "metadata": {},
          "execution_count": 59
        }
      ]
    },
    {
      "cell_type": "markdown",
      "source": [
        "## Searching for the best stump\n",
        "\n",
        "Since the greedy algorithm for growing the trees looks for the best stump in each step, we need to implement a function which find that stump for a given dataset. We will do so by going over all the possible stumps.\n",
        "\n",
        "✍️ Complete the code which searches for the best stump:"
      ],
      "metadata": {
        "id": "9rmr2BpfYJGF"
      }
    },
    {
      "cell_type": "code",
      "source": [
        "def find_best_stump(x, y):\n",
        "    best_stump = None\n",
        "    best_score = np.inf\n",
        "    for field_num in range(x.shape[1]):  # Go over all fields\n",
        "        for val in x[:, field_num]:  # Go over all relevant threshold\n",
        "            ## %%%%%%%%%%%%%%% Your code here - Begin %%%%%%%%%%%%%%%\n",
        "            stump = Stump(field_num, val)\n",
        "            stump.fit(x,y)\n",
        "            score = calc_model_rmse(stump, x, y) ## Calculate the RMSE score for the stump\n",
        "            if score < best_score: ## If it is better that the best stump so far store it as the best\n",
        "                best_stump = stump\n",
        "                best_score = score\n",
        "            ## %%%%%%%%%%%%%%% Your code here - End %%%%%%%%%%%%%%%%%\n",
        "    return best_stump, best_score\n",
        "\n",
        "best_stump, best_score = find_best_stump(x_train, y_train)\n",
        "print(best_score)\n",
        "plot_stump(best_stump)"
      ],
      "metadata": {
        "id": "a3HKZw_4YJGG",
        "colab": {
          "base_uri": "https://localhost:8080/",
          "height": 310
        },
        "outputId": "bd5ab57e-3d9d-4941-b43b-89cb2b98a75f"
      },
      "execution_count": null,
      "outputs": [
        {
          "output_type": "stream",
          "name": "stdout",
          "text": [
            "556.328724360059\n"
          ]
        },
        {
          "output_type": "execute_result",
          "data": {
            "text/plain": [
              "<graphviz.dot.Digraph at 0x7fc058ce7eb0>"
            ],
            "image/svg+xml": "<?xml version=\"1.0\" encoding=\"UTF-8\" standalone=\"no\"?>\n<!DOCTYPE svg PUBLIC \"-//W3C//DTD SVG 1.1//EN\"\n \"http://www.w3.org/Graphics/SVG/1.1/DTD/svg11.dtd\">\n<!-- Generated by graphviz version 2.40.1 (20161225.0304)\n -->\n<!-- Title: %3 Pages: 1 -->\n<svg width=\"204pt\" height=\"204pt\"\n viewBox=\"0.00 0.00 204.28 204.00\" xmlns=\"http://www.w3.org/2000/svg\" xmlns:xlink=\"http://www.w3.org/1999/xlink\">\n<g id=\"graph0\" class=\"graph\" transform=\"scale(1 1) rotate(0) translate(4 200)\">\n<title>%3</title>\n<polygon fill=\"#ffffff\" stroke=\"transparent\" points=\"-4,4 -4,-200 200.2826,-200 200.2826,4 -4,4\"/>\n<!-- root -->\n<g id=\"node1\" class=\"node\">\n<title>root</title>\n<text text-anchor=\"start\" x=\"94.1413\" y=\"-175.3\" font-family=\"Times,serif\" font-weight=\"bold\" font-style=\"italic\" font-size=\"14.00\" fill=\"#000000\">x</text>\n</g>\n<!-- node -->\n<g id=\"node2\" class=\"node\">\n<title>node</title>\n<ellipse fill=\"#dae8fc\" stroke=\"#6c8ebf\" stroke-width=\"3\" cx=\"98.1413\" cy=\"-105\" rx=\"98.2828\" ry=\"18\"/>\n<text text-anchor=\"middle\" x=\"98.1413\" y=\"-101.3\" font-family=\"Times,serif\" font-size=\"14.00\" fill=\"#000000\">Temperature(°C) &gt;= 11</text>\n</g>\n<!-- root&#45;&gt;node -->\n<g id=\"edge1\" class=\"edge\">\n<title>root&#45;&gt;node</title>\n<path fill=\"none\" stroke=\"#000000\" stroke-width=\"2\" d=\"M98.1413,-159.9551C98.1413,-151.8828 98.1413,-142.1764 98.1413,-133.1817\"/>\n<polygon fill=\"#000000\" stroke=\"#000000\" stroke-width=\"2\" points=\"101.6414,-133.0903 98.1413,-123.0904 94.6414,-133.0904 101.6414,-133.0903\"/>\n</g>\n<!-- node_0 -->\n<g id=\"node3\" class=\"node\">\n<title>node_0</title>\n<text text-anchor=\"middle\" x=\"62.1413\" y=\"-14.3\" font-family=\"Times,serif\" font-size=\"14.00\" fill=\"#000000\">364</text>\n</g>\n<!-- node&#45;&gt;node_0 -->\n<g id=\"edge2\" class=\"edge\">\n<title>node&#45;&gt;node_0</title>\n<path fill=\"none\" stroke=\"#000000\" stroke-width=\"2\" d=\"M90.6821,-86.9735C85.7103,-74.9585 79.082,-58.9401 73.4646,-45.3646\"/>\n<polygon fill=\"#000000\" stroke=\"#000000\" stroke-width=\"2\" points=\"76.6486,-43.9053 69.591,-36.0034 70.1805,-46.5818 76.6486,-43.9053\"/>\n<text text-anchor=\"middle\" x=\"92.6413\" y=\"-57.8\" font-family=\"Times,serif\" font-size=\"14.00\" fill=\"#000000\">No</text>\n</g>\n<!-- node_1 -->\n<g id=\"node4\" class=\"node\">\n<title>node_1</title>\n<text text-anchor=\"middle\" x=\"134.1413\" y=\"-14.3\" font-family=\"Times,serif\" font-size=\"14.00\" fill=\"#000000\">1038</text>\n</g>\n<!-- node&#45;&gt;node_1 -->\n<g id=\"edge3\" class=\"edge\">\n<title>node&#45;&gt;node_1</title>\n<path fill=\"none\" stroke=\"#000000\" stroke-width=\"2\" d=\"M105.6005,-86.9735C110.5723,-74.9585 117.2006,-58.9401 122.818,-45.3646\"/>\n<polygon fill=\"#000000\" stroke=\"#000000\" stroke-width=\"2\" points=\"126.1021,-46.5818 126.6916,-36.0034 119.634,-43.9053 126.1021,-46.5818\"/>\n<text text-anchor=\"middle\" x=\"128.6413\" y=\"-57.8\" font-family=\"Times,serif\" font-size=\"14.00\" fill=\"#000000\">Yes</text>\n</g>\n</g>\n</svg>\n"
          },
          "metadata": {},
          "execution_count": 60
        }
      ]
    },
    {
      "cell_type": "markdown",
      "source": [
        "Make sure you get a split according to the temperature."
      ],
      "metadata": {
        "id": "SxHb1cf0YJGH"
      }
    },
    {
      "cell_type": "markdown",
      "source": [
        "## Deeper Trees\n",
        "\n",
        "Below is an implementation of a node in a general tree with an arbitrary depth. Each node object can be either a leaf or a split (like a stump). For the case where the node is a split it points to the two next nodes in the tree.\n",
        "\n",
        "Each node is initialized as a leaf with a fixed prediction and can later become a split in the growing process. When the growing function is called on a node which is a leaf, it uses the \"find_best_stump\" function to search for the optimal split which will replace the leaf. When the growing function is called on a node which is a split, it splits the data and calls the growing function on the child nodes.\n",
        "\n",
        "This class is already fully implemented including the growing function and the pruning function and it is built upon the function which we had defined so far. You are encouraged to go over it and try to make sure you understand how the growing process works and the pruning work."
      ],
      "metadata": {
        "id": "sYhVPMNTYJGH"
      }
    },
    {
      "cell_type": "code",
      "source": [
        "class Node:\n",
        "    def __init__(self, prediction):\n",
        "        self.is_leaf = True\n",
        "        \n",
        "        self.prediction = prediction\n",
        "\n",
        "        self.field_num = None\n",
        "        self.threshold = None\n",
        "        self.node_true = None\n",
        "        self.node_false = None\n",
        "    \n",
        "    def split(self, x):\n",
        "        true_indices = (x[:, self.field_num] >= self.threshold)\n",
        "        false_indices = (x[:, self.field_num] < self.threshold)\n",
        "        return true_indices, false_indices\n",
        "\n",
        "    def predict(self, x):\n",
        "        y_hat = np.zeros(x.shape[0])\n",
        "        if self.is_leaf:\n",
        "            y_hat[:] = self.prediction\n",
        "        else:\n",
        "            true_indices, false_indices = self.split(x)\n",
        "            y_hat[true_indices] = self.node_true.predict(x[true_indices])\n",
        "            y_hat[false_indices] = self.node_false.predict(x[false_indices])\n",
        "        return y_hat\n",
        "    \n",
        "    def grow_one_level(self, x, y):\n",
        "        if not self.is_leaf:\n",
        "            true_indices, false_indices = self.split(x)\n",
        "            self.node_true.grow_one_level(x[true_indices], y[true_indices])\n",
        "            self.node_false.grow_one_level(x[false_indices], y[false_indices])\n",
        "        else:\n",
        "            score_before = calc_model_rmse(self, x, y)\n",
        "            best_stump, best_score = find_best_stump(x, y)\n",
        "            if best_score < score_before:\n",
        "                self.is_leaf = False\n",
        "                self.field_num = best_stump.field_num\n",
        "                self.threshold = best_stump.threshold\n",
        "                self.node_true = Node(best_stump.true_leaf_prediciton)\n",
        "                self.node_false = Node(best_stump.false_leaf_prediction)\n",
        "    \n",
        "    def prune(self, x, y):\n",
        "        if not self.is_leaf:\n",
        "            true_indices, false_indices = self.split(x)\n",
        "            if not (true_indices.any() and false_indices.any()):\n",
        "                self.is_leaf = True\n",
        "            else:\n",
        "                self.node_true.prune(x[true_indices], y[true_indices])\n",
        "                self.node_false.prune(x[false_indices], y[false_indices])\n",
        "                if self.node_true.is_leaf and self.node_false.is_leaf:\n",
        "                    score_with = calc_model_rmse(self, x, y)\n",
        "                    self.is_leaf = True\n",
        "                    score_without = calc_model_rmse(self, x, y)\n",
        "                    if score_with < score_without:\n",
        "                        self.is_leaf = False"
      ],
      "metadata": {
        "id": "Fp7ZmN4LYJGH"
      },
      "execution_count": null,
      "outputs": []
    },
    {
      "cell_type": "markdown",
      "source": [
        "And a function to plot the tree:"
      ],
      "metadata": {
        "id": "HbL-vxFxYJGI"
      }
    },
    {
      "cell_type": "code",
      "source": [
        "def plot_tree(tree):\n",
        "    node_style = {'style': 'filled', 'fillcolor': '#DAE8FC', 'color': '#6C8EBF', 'penwidth': '3'}\n",
        "    edge_style = {'penwidth': '2'}\n",
        "\n",
        "    def add_node_to_tree(node, index):\n",
        "        if node.is_leaf:\n",
        "            tree_graph.node(index, f'{int(node.prediction)}', shape='plaintext')\n",
        "        else:\n",
        "            node_text = f'{x_fields[node.field_num]} >= {int(node.threshold)}'\n",
        "            tree_graph.node(index, node_text, **node_style)\n",
        "            tree_graph.edge(index, index + '_0', 'No', **edge_style)\n",
        "            add_node_to_tree(node.node_false, index + '_0')\n",
        "            tree_graph.edge(index, index + '_1', 'Yes', **edge_style)\n",
        "            add_node_to_tree(node.node_true, index + '_1')\n",
        "        \n",
        "    tree_graph = Digraph(comment='Tree')\n",
        "    tree_graph.format = 'png'\n",
        "    tree_graph.node('root', '<<I><B>x</B></I>>', shape='plaintext')\n",
        "    tree_graph.edge('root', 'node', **edge_style)\n",
        "    add_node_to_tree(tree, 'node')\n",
        "    \n",
        "    return tree_graph"
      ],
      "metadata": {
        "id": "ztVvnvVpYJGJ"
      },
      "execution_count": null,
      "outputs": []
    },
    {
      "cell_type": "markdown",
      "source": [
        "## Growing a tree\n",
        "\n",
        "### Depth = 0\n",
        "\n",
        "We will start with a tree of 0 depth (only a single leaf). We will initialized it with the optimal constant predictor which is the mean value of the labels over all the train set."
      ],
      "metadata": {
        "id": "0YYiviSJYJGK"
      }
    },
    {
      "cell_type": "code",
      "source": [
        "tree = Node(y_train.mean())\n",
        "print(f'The RMSE score in the train is: {calc_model_rmse(tree, x_train, y_train):.2f}')\n",
        "print(f'The RMSE score in the validation is: {calc_model_rmse(tree, x_val, y_val):.2f}')\n",
        "plot_tree(tree)"
      ],
      "metadata": {
        "id": "6dBuBbEyYJGL",
        "colab": {
          "base_uri": "https://localhost:8080/",
          "height": 210
        },
        "outputId": "353da108-08ed-4dec-c5c5-6f8f9336e43a"
      },
      "execution_count": null,
      "outputs": [
        {
          "output_type": "stream",
          "name": "stdout",
          "text": [
            "The RMSE score in the train is: 648.84\n",
            "The RMSE score in the validation is: 642.39\n"
          ]
        },
        {
          "output_type": "execute_result",
          "data": {
            "text/plain": [
              "<graphviz.dot.Digraph at 0x7fc058b78970>"
            ],
            "image/svg+xml": "<?xml version=\"1.0\" encoding=\"UTF-8\" standalone=\"no\"?>\n<!DOCTYPE svg PUBLIC \"-//W3C//DTD SVG 1.1//EN\"\n \"http://www.w3.org/Graphics/SVG/1.1/DTD/svg11.dtd\">\n<!-- Generated by graphviz version 2.40.1 (20161225.0304)\n -->\n<!-- Title: %3 Pages: 1 -->\n<svg width=\"62pt\" height=\"116pt\"\n viewBox=\"0.00 0.00 62.00 116.00\" xmlns=\"http://www.w3.org/2000/svg\" xmlns:xlink=\"http://www.w3.org/1999/xlink\">\n<g id=\"graph0\" class=\"graph\" transform=\"scale(1 1) rotate(0) translate(4 112)\">\n<title>%3</title>\n<polygon fill=\"#ffffff\" stroke=\"transparent\" points=\"-4,4 -4,-112 58,-112 58,4 -4,4\"/>\n<!-- root -->\n<g id=\"node1\" class=\"node\">\n<title>root</title>\n<text text-anchor=\"start\" x=\"23\" y=\"-87.3\" font-family=\"Times,serif\" font-weight=\"bold\" font-style=\"italic\" font-size=\"14.00\" fill=\"#000000\">x</text>\n</g>\n<!-- node -->\n<g id=\"node2\" class=\"node\">\n<title>node</title>\n<text text-anchor=\"middle\" x=\"27\" y=\"-14.3\" font-family=\"Times,serif\" font-size=\"14.00\" fill=\"#000000\">743</text>\n</g>\n<!-- root&#45;&gt;node -->\n<g id=\"edge1\" class=\"edge\">\n<title>root&#45;&gt;node</title>\n<path fill=\"none\" stroke=\"#000000\" stroke-width=\"2\" d=\"M27,-71.8314C27,-64.131 27,-54.9743 27,-46.4166\"/>\n<polygon fill=\"#000000\" stroke=\"#000000\" stroke-width=\"2\" points=\"30.5001,-46.4132 27,-36.4133 23.5001,-46.4133 30.5001,-46.4132\"/>\n</g>\n</g>\n</svg>\n"
          },
          "metadata": {},
          "execution_count": 63
        }
      ]
    },
    {
      "cell_type": "markdown",
      "source": [
        "### Depth = 1\n",
        "\n",
        "We will now call the \"grow_one_level\" function to add an extra layer to the tree:"
      ],
      "metadata": {
        "id": "GkIENWcLYJGL"
      }
    },
    {
      "cell_type": "code",
      "source": [
        "tree.grow_one_level(x_train, y_train)\n",
        "print(f'The RMSE score in the train is: {calc_model_rmse(tree, x_train, y_train):.2f}')\n",
        "print(f'The RMSE score in the validation is: {calc_model_rmse(tree, x_val, y_val):.2f}')\n",
        "plot_tree(tree)"
      ],
      "metadata": {
        "id": "36SrJE6VYJGM",
        "colab": {
          "base_uri": "https://localhost:8080/",
          "height": 328
        },
        "outputId": "f0ed00d9-d468-42d8-f41d-40de4c2bfe29"
      },
      "execution_count": null,
      "outputs": [
        {
          "output_type": "stream",
          "name": "stdout",
          "text": [
            "The RMSE score in the train is: 556.33\n",
            "The RMSE score in the validation is: 541.58\n"
          ]
        },
        {
          "output_type": "execute_result",
          "data": {
            "text/plain": [
              "<graphviz.dot.Digraph at 0x7fc058beeaf0>"
            ],
            "image/svg+xml": "<?xml version=\"1.0\" encoding=\"UTF-8\" standalone=\"no\"?>\n<!DOCTYPE svg PUBLIC \"-//W3C//DTD SVG 1.1//EN\"\n \"http://www.w3.org/Graphics/SVG/1.1/DTD/svg11.dtd\">\n<!-- Generated by graphviz version 2.40.1 (20161225.0304)\n -->\n<!-- Title: %3 Pages: 1 -->\n<svg width=\"204pt\" height=\"204pt\"\n viewBox=\"0.00 0.00 204.28 204.00\" xmlns=\"http://www.w3.org/2000/svg\" xmlns:xlink=\"http://www.w3.org/1999/xlink\">\n<g id=\"graph0\" class=\"graph\" transform=\"scale(1 1) rotate(0) translate(4 200)\">\n<title>%3</title>\n<polygon fill=\"#ffffff\" stroke=\"transparent\" points=\"-4,4 -4,-200 200.2826,-200 200.2826,4 -4,4\"/>\n<!-- root -->\n<g id=\"node1\" class=\"node\">\n<title>root</title>\n<text text-anchor=\"start\" x=\"94.1413\" y=\"-175.3\" font-family=\"Times,serif\" font-weight=\"bold\" font-style=\"italic\" font-size=\"14.00\" fill=\"#000000\">x</text>\n</g>\n<!-- node -->\n<g id=\"node2\" class=\"node\">\n<title>node</title>\n<ellipse fill=\"#dae8fc\" stroke=\"#6c8ebf\" stroke-width=\"3\" cx=\"98.1413\" cy=\"-105\" rx=\"98.2828\" ry=\"18\"/>\n<text text-anchor=\"middle\" x=\"98.1413\" y=\"-101.3\" font-family=\"Times,serif\" font-size=\"14.00\" fill=\"#000000\">Temperature(°C) &gt;= 11</text>\n</g>\n<!-- root&#45;&gt;node -->\n<g id=\"edge1\" class=\"edge\">\n<title>root&#45;&gt;node</title>\n<path fill=\"none\" stroke=\"#000000\" stroke-width=\"2\" d=\"M98.1413,-159.9551C98.1413,-151.8828 98.1413,-142.1764 98.1413,-133.1817\"/>\n<polygon fill=\"#000000\" stroke=\"#000000\" stroke-width=\"2\" points=\"101.6414,-133.0903 98.1413,-123.0904 94.6414,-133.0904 101.6414,-133.0903\"/>\n</g>\n<!-- node_0 -->\n<g id=\"node3\" class=\"node\">\n<title>node_0</title>\n<text text-anchor=\"middle\" x=\"62.1413\" y=\"-14.3\" font-family=\"Times,serif\" font-size=\"14.00\" fill=\"#000000\">364</text>\n</g>\n<!-- node&#45;&gt;node_0 -->\n<g id=\"edge2\" class=\"edge\">\n<title>node&#45;&gt;node_0</title>\n<path fill=\"none\" stroke=\"#000000\" stroke-width=\"2\" d=\"M90.6821,-86.9735C85.7103,-74.9585 79.082,-58.9401 73.4646,-45.3646\"/>\n<polygon fill=\"#000000\" stroke=\"#000000\" stroke-width=\"2\" points=\"76.6486,-43.9053 69.591,-36.0034 70.1805,-46.5818 76.6486,-43.9053\"/>\n<text text-anchor=\"middle\" x=\"92.6413\" y=\"-57.8\" font-family=\"Times,serif\" font-size=\"14.00\" fill=\"#000000\">No</text>\n</g>\n<!-- node_1 -->\n<g id=\"node4\" class=\"node\">\n<title>node_1</title>\n<text text-anchor=\"middle\" x=\"134.1413\" y=\"-14.3\" font-family=\"Times,serif\" font-size=\"14.00\" fill=\"#000000\">1038</text>\n</g>\n<!-- node&#45;&gt;node_1 -->\n<g id=\"edge3\" class=\"edge\">\n<title>node&#45;&gt;node_1</title>\n<path fill=\"none\" stroke=\"#000000\" stroke-width=\"2\" d=\"M105.6005,-86.9735C110.5723,-74.9585 117.2006,-58.9401 122.818,-45.3646\"/>\n<polygon fill=\"#000000\" stroke=\"#000000\" stroke-width=\"2\" points=\"126.1021,-46.5818 126.6916,-36.0034 119.634,-43.9053 126.1021,-46.5818\"/>\n<text text-anchor=\"middle\" x=\"128.6413\" y=\"-57.8\" font-family=\"Times,serif\" font-size=\"14.00\" fill=\"#000000\">Yes</text>\n</g>\n</g>\n</svg>\n"
          },
          "metadata": {},
          "execution_count": 64
        }
      ]
    },
    {
      "cell_type": "markdown",
      "source": [
        "## Depth = 2"
      ],
      "metadata": {
        "id": "lZKxCQMSYJGN"
      }
    },
    {
      "cell_type": "code",
      "source": [
        "tree.grow_one_level(x_train, y_train)\n",
        "print(f'The RMSE score in the train is: {calc_model_rmse(tree, x_train, y_train):.2f}')\n",
        "print(f'The RMSE score in the validation is: {calc_model_rmse(tree, x_val, y_val):.2f}')\n",
        "plot_tree(tree)"
      ],
      "metadata": {
        "id": "lBN6tcgkYJGN",
        "colab": {
          "base_uri": "https://localhost:8080/",
          "height": 444
        },
        "outputId": "fdebed61-c028-44ba-c265-584b5dd8f4df"
      },
      "execution_count": null,
      "outputs": [
        {
          "output_type": "stream",
          "name": "stdout",
          "text": [
            "The RMSE score in the train is: 470.44\n",
            "The RMSE score in the validation is: 450.50\n"
          ]
        },
        {
          "output_type": "execute_result",
          "data": {
            "text/plain": [
              "<graphviz.dot.Digraph at 0x7fc058beefa0>"
            ],
            "image/svg+xml": "<?xml version=\"1.0\" encoding=\"UTF-8\" standalone=\"no\"?>\n<!DOCTYPE svg PUBLIC \"-//W3C//DTD SVG 1.1//EN\"\n \"http://www.w3.org/Graphics/SVG/1.1/DTD/svg11.dtd\">\n<!-- Generated by graphviz version 2.40.1 (20161225.0304)\n -->\n<!-- Title: %3 Pages: 1 -->\n<svg width=\"326pt\" height=\"291pt\"\n viewBox=\"0.00 0.00 325.59 291.00\" xmlns=\"http://www.w3.org/2000/svg\" xmlns:xlink=\"http://www.w3.org/1999/xlink\">\n<g id=\"graph0\" class=\"graph\" transform=\"scale(1 1) rotate(0) translate(4 287)\">\n<title>%3</title>\n<polygon fill=\"#ffffff\" stroke=\"transparent\" points=\"-4,4 -4,-287 321.5917,-287 321.5917,4 -4,4\"/>\n<!-- root -->\n<g id=\"node1\" class=\"node\">\n<title>root</title>\n<text text-anchor=\"start\" x=\"172.5917\" y=\"-262.3\" font-family=\"Times,serif\" font-weight=\"bold\" font-style=\"italic\" font-size=\"14.00\" fill=\"#000000\">x</text>\n</g>\n<!-- node -->\n<g id=\"node2\" class=\"node\">\n<title>node</title>\n<ellipse fill=\"#dae8fc\" stroke=\"#6c8ebf\" stroke-width=\"3\" cx=\"176.5917\" cy=\"-192\" rx=\"98.2828\" ry=\"18\"/>\n<text text-anchor=\"middle\" x=\"176.5917\" y=\"-188.3\" font-family=\"Times,serif\" font-size=\"14.00\" fill=\"#000000\">Temperature(°C) &gt;= 11</text>\n</g>\n<!-- root&#45;&gt;node -->\n<g id=\"edge1\" class=\"edge\">\n<title>root&#45;&gt;node</title>\n<path fill=\"none\" stroke=\"#000000\" stroke-width=\"2\" d=\"M176.5917,-246.9551C176.5917,-238.8828 176.5917,-229.1764 176.5917,-220.1817\"/>\n<polygon fill=\"#000000\" stroke=\"#000000\" stroke-width=\"2\" points=\"180.0918,-220.0903 176.5917,-210.0904 173.0918,-220.0904 180.0918,-220.0903\"/>\n</g>\n<!-- node_0 -->\n<g id=\"node3\" class=\"node\">\n<title>node_0</title>\n<ellipse fill=\"#dae8fc\" stroke=\"#6c8ebf\" stroke-width=\"3\" cx=\"93.5917\" cy=\"-105\" rx=\"93.6835\" ry=\"18\"/>\n<text text-anchor=\"middle\" x=\"93.5917\" y=\"-101.3\" font-family=\"Times,serif\" font-size=\"14.00\" fill=\"#000000\">Temperature(°C) &gt;= 3</text>\n</g>\n<!-- node&#45;&gt;node_0 -->\n<g id=\"edge2\" class=\"edge\">\n<title>node&#45;&gt;node_0</title>\n<path fill=\"none\" stroke=\"#000000\" stroke-width=\"2\" d=\"M159.394,-173.9735C147.2948,-161.2912 130.9404,-144.1486 117.563,-130.1265\"/>\n<polygon fill=\"#000000\" stroke=\"#000000\" stroke-width=\"2\" points=\"119.9186,-127.5252 110.4833,-122.7057 114.8537,-132.3571 119.9186,-127.5252\"/>\n<text text-anchor=\"middle\" x=\"150.0917\" y=\"-144.8\" font-family=\"Times,serif\" font-size=\"14.00\" fill=\"#000000\">No</text>\n</g>\n<!-- node_1 -->\n<g id=\"node6\" class=\"node\">\n<title>node_1</title>\n<ellipse fill=\"#dae8fc\" stroke=\"#6c8ebf\" stroke-width=\"3\" cx=\"260.5917\" cy=\"-105\" rx=\"55.7903\" ry=\"18\"/>\n<text text-anchor=\"middle\" x=\"260.5917\" y=\"-101.3\" font-family=\"Times,serif\" font-size=\"14.00\" fill=\"#000000\">Hour &gt;= 16</text>\n</g>\n<!-- node&#45;&gt;node_1 -->\n<g id=\"edge5\" class=\"edge\">\n<title>node&#45;&gt;node_1</title>\n<path fill=\"none\" stroke=\"#000000\" stroke-width=\"2\" d=\"M193.9965,-173.9735C206.3226,-161.2072 223.0124,-143.9214 236.6002,-129.8484\"/>\n<polygon fill=\"#000000\" stroke=\"#000000\" stroke-width=\"2\" points=\"239.3543,-132.0348 243.7823,-122.4097 234.3184,-127.1726 239.3543,-132.0348\"/>\n<text text-anchor=\"middle\" x=\"234.0917\" y=\"-144.8\" font-family=\"Times,serif\" font-size=\"14.00\" fill=\"#000000\">Yes</text>\n</g>\n<!-- node_0_0 -->\n<g id=\"node4\" class=\"node\">\n<title>node_0_0</title>\n<text text-anchor=\"middle\" x=\"63.5917\" y=\"-14.3\" font-family=\"Times,serif\" font-size=\"14.00\" fill=\"#000000\">236</text>\n</g>\n<!-- node_0&#45;&gt;node_0_0 -->\n<g id=\"edge3\" class=\"edge\">\n<title>node_0&#45;&gt;node_0_0</title>\n<path fill=\"none\" stroke=\"#000000\" stroke-width=\"2\" d=\"M87.3757,-86.9735C83.2728,-75.0751 77.8161,-59.2508 73.1643,-45.7606\"/>\n<polygon fill=\"#000000\" stroke=\"#000000\" stroke-width=\"2\" points=\"76.3685,-44.3161 69.7998,-36.0034 69.7509,-46.5981 76.3685,-44.3161\"/>\n<text text-anchor=\"middle\" x=\"90.0917\" y=\"-57.8\" font-family=\"Times,serif\" font-size=\"14.00\" fill=\"#000000\">No</text>\n</g>\n<!-- node_0_1 -->\n<g id=\"node5\" class=\"node\">\n<title>node_0_1</title>\n<text text-anchor=\"middle\" x=\"135.5917\" y=\"-14.3\" font-family=\"Times,serif\" font-size=\"14.00\" fill=\"#000000\">521</text>\n</g>\n<!-- node_0&#45;&gt;node_0_1 -->\n<g id=\"edge4\" class=\"edge\">\n<title>node_0&#45;&gt;node_0_1</title>\n<path fill=\"none\" stroke=\"#000000\" stroke-width=\"2\" d=\"M102.2941,-86.9735C108.0945,-74.9585 115.8275,-58.9401 122.3812,-45.3646\"/>\n<polygon fill=\"#000000\" stroke=\"#000000\" stroke-width=\"2\" points=\"125.7048,-46.5305 126.9004,-36.0034 119.4009,-43.4872 125.7048,-46.5305\"/>\n<text text-anchor=\"middle\" x=\"128.0917\" y=\"-57.8\" font-family=\"Times,serif\" font-size=\"14.00\" fill=\"#000000\">Yes</text>\n</g>\n<!-- node_1_0 -->\n<g id=\"node7\" class=\"node\">\n<title>node_1_0</title>\n<text text-anchor=\"middle\" x=\"218.5917\" y=\"-14.3\" font-family=\"Times,serif\" font-size=\"14.00\" fill=\"#000000\">758</text>\n</g>\n<!-- node_1&#45;&gt;node_1_0 -->\n<g id=\"edge6\" class=\"edge\">\n<title>node_1&#45;&gt;node_1_0</title>\n<path fill=\"none\" stroke=\"#000000\" stroke-width=\"2\" d=\"M251.8893,-86.9735C246.0889,-74.9585 238.3559,-58.9401 231.8022,-45.3646\"/>\n<polygon fill=\"#000000\" stroke=\"#000000\" stroke-width=\"2\" points=\"234.7825,-43.4872 227.283,-36.0034 228.4786,-46.5305 234.7825,-43.4872\"/>\n<text text-anchor=\"middle\" x=\"251.0917\" y=\"-57.8\" font-family=\"Times,serif\" font-size=\"14.00\" fill=\"#000000\">No</text>\n</g>\n<!-- node_1_1 -->\n<g id=\"node8\" class=\"node\">\n<title>node_1_1</title>\n<text text-anchor=\"middle\" x=\"290.5917\" y=\"-14.3\" font-family=\"Times,serif\" font-size=\"14.00\" fill=\"#000000\">1543</text>\n</g>\n<!-- node_1&#45;&gt;node_1_1 -->\n<g id=\"edge7\" class=\"edge\">\n<title>node_1&#45;&gt;node_1_1</title>\n<path fill=\"none\" stroke=\"#000000\" stroke-width=\"2\" d=\"M266.8077,-86.9735C270.9106,-75.0751 276.3673,-59.2508 281.0191,-45.7606\"/>\n<polygon fill=\"#000000\" stroke=\"#000000\" stroke-width=\"2\" points=\"284.4325,-46.5981 284.3836,-36.0034 277.8149,-44.3161 284.4325,-46.5981\"/>\n<text text-anchor=\"middle\" x=\"287.0917\" y=\"-57.8\" font-family=\"Times,serif\" font-size=\"14.00\" fill=\"#000000\">Yes</text>\n</g>\n</g>\n</svg>\n"
          },
          "metadata": {},
          "execution_count": 65
        }
      ]
    },
    {
      "cell_type": "markdown",
      "source": [
        "### Depth = 3"
      ],
      "metadata": {
        "id": "IFQ1vqu6YJGO"
      }
    },
    {
      "cell_type": "code",
      "source": [
        "tree.grow_one_level(x_train, y_train)\n",
        "print(f'The RMSE score in the train is: {calc_model_rmse(tree, x_train, y_train):.2f}')\n",
        "print(f'The RMSE score in the validation is: {calc_model_rmse(tree, x_val, y_val):.2f}')\n",
        "plot_tree(tree)"
      ],
      "metadata": {
        "id": "ABzVeUpjYJGO",
        "colab": {
          "base_uri": "https://localhost:8080/",
          "height": 560
        },
        "outputId": "16d88096-9b23-4676-8f8e-b5817cd6d553"
      },
      "execution_count": null,
      "outputs": [
        {
          "output_type": "stream",
          "name": "stdout",
          "text": [
            "The RMSE score in the train is: 393.23\n",
            "The RMSE score in the validation is: 386.88\n"
          ]
        },
        {
          "output_type": "execute_result",
          "data": {
            "text/plain": [
              "<graphviz.dot.Digraph at 0x7fc058beedc0>"
            ],
            "image/svg+xml": "<?xml version=\"1.0\" encoding=\"UTF-8\" standalone=\"no\"?>\n<!DOCTYPE svg PUBLIC \"-//W3C//DTD SVG 1.1//EN\"\n \"http://www.w3.org/Graphics/SVG/1.1/DTD/svg11.dtd\">\n<!-- Generated by graphviz version 2.40.1 (20161225.0304)\n -->\n<!-- Title: %3 Pages: 1 -->\n<svg width=\"721pt\" height=\"378pt\"\n viewBox=\"0.00 0.00 720.79 378.00\" xmlns=\"http://www.w3.org/2000/svg\" xmlns:xlink=\"http://www.w3.org/1999/xlink\">\n<g id=\"graph0\" class=\"graph\" transform=\"scale(1 1) rotate(0) translate(4 374)\">\n<title>%3</title>\n<polygon fill=\"#ffffff\" stroke=\"transparent\" points=\"-4,4 -4,-374 716.7924,-374 716.7924,4 -4,4\"/>\n<!-- root -->\n<g id=\"node1\" class=\"node\">\n<title>root</title>\n<text text-anchor=\"start\" x=\"298\" y=\"-349.3\" font-family=\"Times,serif\" font-weight=\"bold\" font-style=\"italic\" font-size=\"14.00\" fill=\"#000000\">x</text>\n</g>\n<!-- node -->\n<g id=\"node2\" class=\"node\">\n<title>node</title>\n<ellipse fill=\"#dae8fc\" stroke=\"#6c8ebf\" stroke-width=\"3\" cx=\"302\" cy=\"-279\" rx=\"98.2828\" ry=\"18\"/>\n<text text-anchor=\"middle\" x=\"302\" y=\"-275.3\" font-family=\"Times,serif\" font-size=\"14.00\" fill=\"#000000\">Temperature(°C) &gt;= 11</text>\n</g>\n<!-- root&#45;&gt;node -->\n<g id=\"edge1\" class=\"edge\">\n<title>root&#45;&gt;node</title>\n<path fill=\"none\" stroke=\"#000000\" stroke-width=\"2\" d=\"M302,-333.9551C302,-325.8828 302,-316.1764 302,-307.1817\"/>\n<polygon fill=\"#000000\" stroke=\"#000000\" stroke-width=\"2\" points=\"305.5001,-307.0903 302,-297.0904 298.5001,-307.0904 305.5001,-307.0903\"/>\n</g>\n<!-- node_0 -->\n<g id=\"node3\" class=\"node\">\n<title>node_0</title>\n<ellipse fill=\"#dae8fc\" stroke=\"#6c8ebf\" stroke-width=\"3\" cx=\"206\" cy=\"-192\" rx=\"93.6835\" ry=\"18\"/>\n<text text-anchor=\"middle\" x=\"206\" y=\"-188.3\" font-family=\"Times,serif\" font-size=\"14.00\" fill=\"#000000\">Temperature(°C) &gt;= 3</text>\n</g>\n<!-- node&#45;&gt;node_0 -->\n<g id=\"edge2\" class=\"edge\">\n<title>node&#45;&gt;node_0</title>\n<path fill=\"none\" stroke=\"#000000\" stroke-width=\"2\" d=\"M282.1087,-260.9735C267.9849,-248.1738 248.8478,-230.8308 233.2969,-216.7379\"/>\n<polygon fill=\"#000000\" stroke=\"#000000\" stroke-width=\"2\" points=\"235.2975,-213.8275 225.5373,-209.7057 230.5969,-219.0144 235.2975,-213.8275\"/>\n<text text-anchor=\"middle\" x=\"269.5\" y=\"-231.8\" font-family=\"Times,serif\" font-size=\"14.00\" fill=\"#000000\">No</text>\n</g>\n<!-- node_1 -->\n<g id=\"node10\" class=\"node\">\n<title>node_1</title>\n<ellipse fill=\"#dae8fc\" stroke=\"#6c8ebf\" stroke-width=\"3\" cx=\"399\" cy=\"-192\" rx=\"55.7903\" ry=\"18\"/>\n<text text-anchor=\"middle\" x=\"399\" y=\"-188.3\" font-family=\"Times,serif\" font-size=\"14.00\" fill=\"#000000\">Hour &gt;= 16</text>\n</g>\n<!-- node&#45;&gt;node_1 -->\n<g id=\"edge9\" class=\"edge\">\n<title>node&#45;&gt;node_1</title>\n<path fill=\"none\" stroke=\"#000000\" stroke-width=\"2\" d=\"M322.0985,-260.9735C336.5585,-248.0043 356.219,-230.3706 372.0411,-216.1796\"/>\n<polygon fill=\"#000000\" stroke=\"#000000\" stroke-width=\"2\" points=\"374.8099,-218.3979 379.9173,-209.1154 370.136,-213.1868 374.8099,-218.3979\"/>\n<text text-anchor=\"middle\" x=\"367.5\" y=\"-231.8\" font-family=\"Times,serif\" font-size=\"14.00\" fill=\"#000000\">Yes</text>\n</g>\n<!-- node_0_0 -->\n<g id=\"node4\" class=\"node\">\n<title>node_0_0</title>\n<ellipse fill=\"#dae8fc\" stroke=\"#6c8ebf\" stroke-width=\"3\" cx=\"87\" cy=\"-105\" rx=\"50.8918\" ry=\"18\"/>\n<text text-anchor=\"middle\" x=\"87\" y=\"-101.3\" font-family=\"Times,serif\" font-size=\"14.00\" fill=\"#000000\">Hour &gt;= 7</text>\n</g>\n<!-- node_0&#45;&gt;node_0_0 -->\n<g id=\"edge3\" class=\"edge\">\n<title>node_0&#45;&gt;node_0_0</title>\n<path fill=\"none\" stroke=\"#000000\" stroke-width=\"2\" d=\"M181.9186,-174.3943C163.378,-160.8393 137.6233,-142.0103 117.6189,-127.3852\"/>\n<polygon fill=\"#000000\" stroke=\"#000000\" stroke-width=\"2\" points=\"119.5738,-124.4788 109.4354,-121.4024 115.4424,-130.1297 119.5738,-124.4788\"/>\n<text text-anchor=\"middle\" x=\"163.5\" y=\"-144.8\" font-family=\"Times,serif\" font-size=\"14.00\" fill=\"#000000\">No</text>\n</g>\n<!-- node_0_1 -->\n<g id=\"node7\" class=\"node\">\n<title>node_0_1</title>\n<ellipse fill=\"#dae8fc\" stroke=\"#6c8ebf\" stroke-width=\"3\" cx=\"206\" cy=\"-105\" rx=\"50.8918\" ry=\"18\"/>\n<text text-anchor=\"middle\" x=\"206\" y=\"-101.3\" font-family=\"Times,serif\" font-size=\"14.00\" fill=\"#000000\">Hour &gt;= 7</text>\n</g>\n<!-- node_0&#45;&gt;node_0_1 -->\n<g id=\"edge6\" class=\"edge\">\n<title>node_0&#45;&gt;node_0_1</title>\n<path fill=\"none\" stroke=\"#000000\" stroke-width=\"2\" d=\"M206,-173.9735C206,-162.1918 206,-146.5607 206,-133.1581\"/>\n<polygon fill=\"#000000\" stroke=\"#000000\" stroke-width=\"2\" points=\"209.5001,-133.0033 206,-123.0034 202.5001,-133.0034 209.5001,-133.0033\"/>\n<text text-anchor=\"middle\" x=\"216.5\" y=\"-144.8\" font-family=\"Times,serif\" font-size=\"14.00\" fill=\"#000000\">Yes</text>\n</g>\n<!-- node_0_0_0 -->\n<g id=\"node5\" class=\"node\">\n<title>node_0_0_0</title>\n<text text-anchor=\"middle\" x=\"27\" y=\"-14.3\" font-family=\"Times,serif\" font-size=\"14.00\" fill=\"#000000\">121</text>\n</g>\n<!-- node_0_0&#45;&gt;node_0_0_0 -->\n<g id=\"edge4\" class=\"edge\">\n<title>node_0_0&#45;&gt;node_0_0_0</title>\n<path fill=\"none\" stroke=\"#000000\" stroke-width=\"2\" d=\"M74.8581,-87.3943C66.351,-75.0589 54.8316,-58.3558 45.2262,-44.428\"/>\n<polygon fill=\"#000000\" stroke=\"#000000\" stroke-width=\"2\" points=\"48.0955,-42.4235 39.5369,-36.1785 42.333,-46.3977 48.0955,-42.4235\"/>\n<text text-anchor=\"middle\" x=\"70.5\" y=\"-57.8\" font-family=\"Times,serif\" font-size=\"14.00\" fill=\"#000000\">No</text>\n</g>\n<!-- node_0_0_1 -->\n<g id=\"node6\" class=\"node\">\n<title>node_0_0_1</title>\n<text text-anchor=\"middle\" x=\"99\" y=\"-14.3\" font-family=\"Times,serif\" font-size=\"14.00\" fill=\"#000000\">300</text>\n</g>\n<!-- node_0_0&#45;&gt;node_0_0_1 -->\n<g id=\"edge5\" class=\"edge\">\n<title>node_0_0&#45;&gt;node_0_0_1</title>\n<path fill=\"none\" stroke=\"#000000\" stroke-width=\"2\" d=\"M89.4864,-86.9735C91.1115,-75.1918 93.2675,-59.5607 95.1161,-46.1581\"/>\n<polygon fill=\"#000000\" stroke=\"#000000\" stroke-width=\"2\" points=\"98.6175,-46.3878 96.5168,-36.0034 91.6831,-45.4313 98.6175,-46.3878\"/>\n<text text-anchor=\"middle\" x=\"104.5\" y=\"-57.8\" font-family=\"Times,serif\" font-size=\"14.00\" fill=\"#000000\">Yes</text>\n</g>\n<!-- node_0_1_0 -->\n<g id=\"node8\" class=\"node\">\n<title>node_0_1_0</title>\n<text text-anchor=\"middle\" x=\"183\" y=\"-14.3\" font-family=\"Times,serif\" font-size=\"14.00\" fill=\"#000000\">249</text>\n</g>\n<!-- node_0_1&#45;&gt;node_0_1_0 -->\n<g id=\"edge7\" class=\"edge\">\n<title>node_0_1&#45;&gt;node_0_1_0</title>\n<path fill=\"none\" stroke=\"#000000\" stroke-width=\"2\" d=\"M201.2344,-86.9735C198.0888,-75.0751 193.9054,-59.2508 190.339,-45.7606\"/>\n<polygon fill=\"#000000\" stroke=\"#000000\" stroke-width=\"2\" points=\"193.6992,-44.7766 187.7595,-36.0034 186.9317,-46.5658 193.6992,-44.7766\"/>\n<text text-anchor=\"middle\" x=\"205.5\" y=\"-57.8\" font-family=\"Times,serif\" font-size=\"14.00\" fill=\"#000000\">No</text>\n</g>\n<!-- node_0_1_1 -->\n<g id=\"node9\" class=\"node\">\n<title>node_0_1_1</title>\n<text text-anchor=\"middle\" x=\"255\" y=\"-14.3\" font-family=\"Times,serif\" font-size=\"14.00\" fill=\"#000000\">647</text>\n</g>\n<!-- node_0_1&#45;&gt;node_0_1_1 -->\n<g id=\"edge8\" class=\"edge\">\n<title>node_0_1&#45;&gt;node_0_1_1</title>\n<path fill=\"none\" stroke=\"#000000\" stroke-width=\"2\" d=\"M216.1528,-86.9735C222.9856,-74.8418 232.1172,-58.6287 239.8101,-44.9698\"/>\n<polygon fill=\"#000000\" stroke=\"#000000\" stroke-width=\"2\" points=\"243.0023,-46.4341 244.8602,-36.0034 236.9032,-42.9989 243.0023,-46.4341\"/>\n<text text-anchor=\"middle\" x=\"244.5\" y=\"-57.8\" font-family=\"Times,serif\" font-size=\"14.00\" fill=\"#000000\">Yes</text>\n</g>\n<!-- node_1_0 -->\n<g id=\"node11\" class=\"node\">\n<title>node_1_0</title>\n<ellipse fill=\"#dae8fc\" stroke=\"#6c8ebf\" stroke-width=\"3\" cx=\"399\" cy=\"-105\" rx=\"124.2781\" ry=\"18\"/>\n<text text-anchor=\"middle\" x=\"399\" y=\"-101.3\" font-family=\"Times,serif\" font-size=\"14.00\" fill=\"#000000\">Solar Radiation (MJ/m2) &gt;= 0</text>\n</g>\n<!-- node_1&#45;&gt;node_1_0 -->\n<g id=\"edge10\" class=\"edge\">\n<title>node_1&#45;&gt;node_1_0</title>\n<path fill=\"none\" stroke=\"#000000\" stroke-width=\"2\" d=\"M399,-173.9735C399,-162.1918 399,-146.5607 399,-133.1581\"/>\n<polygon fill=\"#000000\" stroke=\"#000000\" stroke-width=\"2\" points=\"402.5001,-133.0033 399,-123.0034 395.5001,-133.0034 402.5001,-133.0033\"/>\n<text text-anchor=\"middle\" x=\"408.5\" y=\"-144.8\" font-family=\"Times,serif\" font-size=\"14.00\" fill=\"#000000\">No</text>\n</g>\n<!-- node_1_1 -->\n<g id=\"node14\" class=\"node\">\n<title>node_1_1</title>\n<ellipse fill=\"#dae8fc\" stroke=\"#6c8ebf\" stroke-width=\"3\" cx=\"627\" cy=\"-105\" rx=\"85.5853\" ry=\"18\"/>\n<text text-anchor=\"middle\" x=\"627\" y=\"-101.3\" font-family=\"Times,serif\" font-size=\"14.00\" fill=\"#000000\">Humidity(%) &gt;= 87</text>\n</g>\n<!-- node_1&#45;&gt;node_1_1 -->\n<g id=\"edge13\" class=\"edge\">\n<title>node_1&#45;&gt;node_1_1</title>\n<path fill=\"none\" stroke=\"#000000\" stroke-width=\"2\" d=\"M435.1273,-178.2146C473.1836,-163.6931 533.4181,-140.7089 576.2389,-124.3694\"/>\n<polygon fill=\"#000000\" stroke=\"#000000\" stroke-width=\"2\" points=\"577.5435,-127.6178 585.6386,-120.7826 575.0479,-121.0777 577.5435,-127.6178\"/>\n<text text-anchor=\"middle\" x=\"537.5\" y=\"-144.8\" font-family=\"Times,serif\" font-size=\"14.00\" fill=\"#000000\">Yes</text>\n</g>\n<!-- node_1_0_0 -->\n<g id=\"node12\" class=\"node\">\n<title>node_1_0_0</title>\n<text text-anchor=\"middle\" x=\"363\" y=\"-14.3\" font-family=\"Times,serif\" font-size=\"14.00\" fill=\"#000000\">466</text>\n</g>\n<!-- node_1_0&#45;&gt;node_1_0_0 -->\n<g id=\"edge11\" class=\"edge\">\n<title>node_1_0&#45;&gt;node_1_0_0</title>\n<path fill=\"none\" stroke=\"#000000\" stroke-width=\"2\" d=\"M391.5408,-86.9735C386.569,-74.9585 379.9407,-58.9401 374.3233,-45.3646\"/>\n<polygon fill=\"#000000\" stroke=\"#000000\" stroke-width=\"2\" points=\"377.5073,-43.9053 370.4497,-36.0034 371.0392,-46.5818 377.5073,-43.9053\"/>\n<text text-anchor=\"middle\" x=\"393.5\" y=\"-57.8\" font-family=\"Times,serif\" font-size=\"14.00\" fill=\"#000000\">No</text>\n</g>\n<!-- node_1_0_1 -->\n<g id=\"node13\" class=\"node\">\n<title>node_1_0_1</title>\n<text text-anchor=\"middle\" x=\"435\" y=\"-14.3\" font-family=\"Times,serif\" font-size=\"14.00\" fill=\"#000000\">1025</text>\n</g>\n<!-- node_1_0&#45;&gt;node_1_0_1 -->\n<g id=\"edge12\" class=\"edge\">\n<title>node_1_0&#45;&gt;node_1_0_1</title>\n<path fill=\"none\" stroke=\"#000000\" stroke-width=\"2\" d=\"M406.4592,-86.9735C411.431,-74.9585 418.0593,-58.9401 423.6767,-45.3646\"/>\n<polygon fill=\"#000000\" stroke=\"#000000\" stroke-width=\"2\" points=\"426.9608,-46.5818 427.5503,-36.0034 420.4927,-43.9053 426.9608,-46.5818\"/>\n<text text-anchor=\"middle\" x=\"430.5\" y=\"-57.8\" font-family=\"Times,serif\" font-size=\"14.00\" fill=\"#000000\">Yes</text>\n</g>\n<!-- node_1_1_0 -->\n<g id=\"node15\" class=\"node\">\n<title>node_1_1_0</title>\n<text text-anchor=\"middle\" x=\"591\" y=\"-14.3\" font-family=\"Times,serif\" font-size=\"14.00\" fill=\"#000000\">1659</text>\n</g>\n<!-- node_1_1&#45;&gt;node_1_1_0 -->\n<g id=\"edge14\" class=\"edge\">\n<title>node_1_1&#45;&gt;node_1_1_0</title>\n<path fill=\"none\" stroke=\"#000000\" stroke-width=\"2\" d=\"M619.5408,-86.9735C614.569,-74.9585 607.9407,-58.9401 602.3233,-45.3646\"/>\n<polygon fill=\"#000000\" stroke=\"#000000\" stroke-width=\"2\" points=\"605.5073,-43.9053 598.4497,-36.0034 599.0392,-46.5818 605.5073,-43.9053\"/>\n<text text-anchor=\"middle\" x=\"621.5\" y=\"-57.8\" font-family=\"Times,serif\" font-size=\"14.00\" fill=\"#000000\">No</text>\n</g>\n<!-- node_1_1_1 -->\n<g id=\"node16\" class=\"node\">\n<title>node_1_1_1</title>\n<text text-anchor=\"middle\" x=\"663\" y=\"-14.3\" font-family=\"Times,serif\" font-size=\"14.00\" fill=\"#000000\">256</text>\n</g>\n<!-- node_1_1&#45;&gt;node_1_1_1 -->\n<g id=\"edge15\" class=\"edge\">\n<title>node_1_1&#45;&gt;node_1_1_1</title>\n<path fill=\"none\" stroke=\"#000000\" stroke-width=\"2\" d=\"M634.4592,-86.9735C639.431,-74.9585 646.0593,-58.9401 651.6767,-45.3646\"/>\n<polygon fill=\"#000000\" stroke=\"#000000\" stroke-width=\"2\" points=\"654.9608,-46.5818 655.5503,-36.0034 648.4927,-43.9053 654.9608,-46.5818\"/>\n<text text-anchor=\"middle\" x=\"657.5\" y=\"-57.8\" font-family=\"Times,serif\" font-size=\"14.00\" fill=\"#000000\">Yes</text>\n</g>\n</g>\n</svg>\n"
          },
          "metadata": {},
          "execution_count": 66
        }
      ]
    },
    {
      "cell_type": "markdown",
      "source": [
        "## Growing until depth = 13\n",
        "\n",
        "We shall stop plotting the tree from here."
      ],
      "metadata": {
        "id": "ML2SxOgaYJGP"
      }
    },
    {
      "cell_type": "code",
      "source": [
        "for level in range(4, 14):\n",
        "    print(f'\\nLevel {level}:')\n",
        "    tree.grow_one_level(x_train, y_train)\n",
        "    print(f'The RMSE score in the train is: {calc_model_rmse(tree, x_train, y_train):.2f}')\n",
        "    print(f'The RMSE score in the validation is: {calc_model_rmse(tree, x_val, y_val):.2f}')"
      ],
      "metadata": {
        "id": "blJ6FnJGYJGP",
        "colab": {
          "base_uri": "https://localhost:8080/"
        },
        "outputId": "ccfd87c8-ccd5-4a84-8605-7483d968ae26"
      },
      "execution_count": null,
      "outputs": [
        {
          "output_type": "stream",
          "name": "stdout",
          "text": [
            "\n",
            "Level 4:\n",
            "The RMSE score in the train is: 364.48\n",
            "The RMSE score in the validation is: 361.72\n",
            "\n",
            "Level 5:\n",
            "The RMSE score in the train is: 331.24\n",
            "The RMSE score in the validation is: 328.86\n",
            "\n",
            "Level 6:\n",
            "The RMSE score in the train is: 296.80\n",
            "The RMSE score in the validation is: 296.11\n",
            "\n",
            "Level 7:\n",
            "The RMSE score in the train is: 268.52\n",
            "The RMSE score in the validation is: 280.47\n",
            "\n",
            "Level 8:\n",
            "The RMSE score in the train is: 241.99\n",
            "The RMSE score in the validation is: 274.06\n",
            "\n",
            "Level 9:\n",
            "The RMSE score in the train is: 211.13\n",
            "The RMSE score in the validation is: 262.83\n",
            "\n",
            "Level 10:\n",
            "The RMSE score in the train is: 183.85\n",
            "The RMSE score in the validation is: 255.81\n",
            "\n",
            "Level 11:\n",
            "The RMSE score in the train is: 155.16\n",
            "The RMSE score in the validation is: 257.03\n",
            "\n",
            "Level 12:\n",
            "The RMSE score in the train is: 128.76\n",
            "The RMSE score in the validation is: 255.72\n",
            "\n",
            "Level 13:\n",
            "The RMSE score in the train is: 105.86\n",
            "The RMSE score in the validation is: 258.44\n"
          ]
        }
      ]
    },
    {
      "cell_type": "markdown",
      "source": [
        "### Pruning\n",
        "\n",
        "We can now use the pruning function to prune the tree using the validation set."
      ],
      "metadata": {
        "id": "ukszeBwvYJGP"
      }
    },
    {
      "cell_type": "code",
      "source": [
        "tree.prune(x_val, y_val)\n",
        "print(f'The RMSE score in the train is: {calc_model_rmse(tree, x_train, y_train):.2f}')\n",
        "print(f'The RMSE score in the validation is: {calc_model_rmse(tree, x_val, y_val):.2f}')"
      ],
      "metadata": {
        "id": "LPRABl8qYJGQ",
        "colab": {
          "base_uri": "https://localhost:8080/"
        },
        "outputId": "9eb55816-f322-4de0-9c9c-d59b0e3757ec"
      },
      "execution_count": null,
      "outputs": [
        {
          "output_type": "stream",
          "name": "stdout",
          "text": [
            "The RMSE score in the train is: 187.02\n",
            "The RMSE score in the validation is: 231.42\n"
          ]
        }
      ]
    },
    {
      "cell_type": "markdown",
      "source": [
        "## Final evaluation\n",
        "\n",
        "Evaluate the model using the test set\n",
        "\n",
        "✍️ Complete the code below the evaluate the RMSE on the test set"
      ],
      "metadata": {
        "id": "GF9Pnhn7YJGQ"
      }
    },
    {
      "cell_type": "code",
      "source": [
        "## %%%%%%%%%%%%%%% Your code here - Begin %%%%%%%%%%%%%%%\n",
        "x_test, y_test = extract_x_y(test_set)\n",
        "\n",
        "tree.predict(x_test)\n",
        "\n",
        "print(f'The RMSE score in the test is: {calc_model_rmse(tree, x_test, y_test)}')\n",
        "## %%%%%%%%%%%%%%% Your code here - End %%%%%%%%%%%%%%%%%"
      ],
      "metadata": {
        "id": "mQhX6lP-YJGR",
        "colab": {
          "base_uri": "https://localhost:8080/"
        },
        "outputId": "ba7aa4a0-13c6-433c-86d8-b671a4520f2e"
      },
      "execution_count": null,
      "outputs": [
        {
          "output_type": "stream",
          "name": "stdout",
          "text": [
            "The RMSE score in the test is: 247.93870551997458\n"
          ]
        }
      ]
    },
    {
      "cell_type": "markdown",
      "source": [
        "## Decision trees in scikit-learn\n",
        "\n",
        "The scikit-learn package also has an implementation for decision trees. Use the documentation of the [DecisionTreeRegressor](https://scikit-learn.org/stable/modules/generated/sklearn.tree.DecisionTreeRegressor.html) object and use in to grow a tree of depth 13. Evaluate the train and validation errors on the new trained, and check that you get the same results as with implementation in this notebook (up to around 1% difference).\n",
        "\n",
        "- Note that the run time of the scikit-learn implementation is significantly faster, mainly due to a more efficient implementation of the search for the best split.\n",
        "\n",
        "✍️ Complete the code below to train and evaluate a decision tree of depth 13 using the scikit-learn package:"
      ],
      "metadata": {
        "id": "p-L3rceMYJGR"
      }
    },
    {
      "cell_type": "code",
      "source": [
        "from sklearn.tree import DecisionTreeRegressor\n",
        "\n",
        "## %%%%%%%%%%%%%%% Your code here - Begin %%%%%%%%%%%%%%%\n",
        "tree2 = DecisionTreeRegressor(max_depth=13)\n",
        "tree2.fit(x_train,y_train)\n",
        "# %%%%%%%%%%%%%%% Your code here - End %%%%%%%%%%%%%%%%%\n",
        "\n",
        "print(f'The RMSE score in the train is: {calc_model_rmse(tree2, x_train, y_train):.2f}')\n",
        "print(f'The RMSE score in the validation is: {calc_model_rmse(tree2, x_val, y_val):.2f}')"
      ],
      "metadata": {
        "id": "CV-2Ng5rYJGS",
        "colab": {
          "base_uri": "https://localhost:8080/"
        },
        "outputId": "b535ea0e-0156-4568-88ba-bc5635761f6c"
      },
      "execution_count": null,
      "outputs": [
        {
          "output_type": "stream",
          "name": "stdout",
          "text": [
            "The RMSE score in the train is: 105.86\n",
            "The RMSE score in the validation is: 264.26\n"
          ]
        }
      ]
    },
    {
      "cell_type": "markdown",
      "source": [
        "## Submission\n",
        "\n",
        "To submit your code download it as a **ipynb** file from Colab, and upload it to the course's website (Moodle). You can download this code by selecting **Download .ipynb** from the **file** menu."
      ],
      "metadata": {
        "id": "nHnhfjATYJGS"
      }
    }
  ],
  "metadata": {
    "kernelspec": {
      "display_name": "Python 3",
      "language": "python",
      "name": "python3"
    },
    "colab": {
      "provenance": []
    }
  },
  "nbformat": 4,
  "nbformat_minor": 0
}